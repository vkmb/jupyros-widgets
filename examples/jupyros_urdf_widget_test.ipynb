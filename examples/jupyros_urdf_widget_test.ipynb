{
 "cells": [
  {
   "cell_type": "code",
   "execution_count": null,
   "id": "ba8f1ae2-12ca-47de-bfbb-1a192f904517",
   "metadata": {},
   "outputs": [],
   "source": [
    "import ipywidgets\n",
    "import jupyros_widgets"
   ]
  },
  {
   "cell_type": "code",
   "execution_count": null,
   "id": "677e59b4-8bef-4504-85ab-0006866e4a92",
   "metadata": {
    "tags": []
   },
   "outputs": [],
   "source": [
    "print(ipywidgets.__version__, jupyros_widgets.__version__)"
   ]
  },
  {
   "cell_type": "code",
   "execution_count": null,
   "id": "4373415d-4457-4c4c-9550-0f780e8cbf81",
   "metadata": {},
   "outputs": [],
   "source": [
    "ros_wws = jupyros_widgets.ROSConnection(socket_url=\"ws://localhost:8888/ros/bridge\")\n",
    "ros_wws"
   ]
  },
  {
   "cell_type": "code",
   "execution_count": null,
   "id": "51d2206f-f002-4add-a1ee-d1aa92e74b0f",
   "metadata": {},
   "outputs": [],
   "source": [
    "# ros_nwws = test_widget.ROSConnection(socket_url=\"ws://localhost:8888/\")\n",
    "# ros_nwws"
   ]
  },
  {
   "cell_type": "code",
   "execution_count": null,
   "id": "74d820ca-d277-4950-aca8-fd28ace025e2",
   "metadata": {
    "tags": []
   },
   "outputs": [],
   "source": [
    "test_subscriber = jupyros_widgets.Subscriber(ros_connection=ros_wws)\n",
    "test_subscriber"
   ]
  },
  {
   "cell_type": "code",
   "execution_count": null,
   "id": "17362139-ee77-4701-9683-e7d3985caef9",
   "metadata": {
    "tags": []
   },
   "outputs": [],
   "source": [
    "test_subscriber.start_listening=False"
   ]
  },
  {
   "cell_type": "code",
   "execution_count": null,
   "id": "308b4651-05ac-469b-af4f-e40a220026d8",
   "metadata": {
    "tags": []
   },
   "outputs": [],
   "source": [
    "viewer = jupyros_widgets.Viewer()"
   ]
  },
  {
   "cell_type": "code",
   "execution_count": null,
   "id": "bbab2db8-2602-468c-ac6a-f2915cf95cfc",
   "metadata": {},
   "outputs": [],
   "source": [
    "viewer"
   ]
  },
  {
   "cell_type": "code",
   "execution_count": null,
   "id": "57c51903-5573-4e46-a6dd-66910960476e",
   "metadata": {
    "tags": []
   },
   "outputs": [],
   "source": [
    "# test_subscriber = test_widget.Subscriber(ros_ws=ros_wws)\n",
    "# test_subscriber\n",
    "# test_subscriber.start_listening = False"
   ]
  },
  {
   "cell_type": "code",
   "execution_count": null,
   "id": "02726bdf-c671-4c79-b47b-3a21f3968488",
   "metadata": {},
   "outputs": [],
   "source": [
    "test_tf = jupyros_widgets.TFListener(ros_connection=ros_wws)\n",
    "test_tf"
   ]
  },
  {
   "cell_type": "code",
   "execution_count": null,
   "id": "38d194b8-0796-4075-b52a-b919bef8b04f",
   "metadata": {},
   "outputs": [],
   "source": [
    "urdf_client = jupyros_widgets.URDFViewer(ros_connection=ros_wws, tf_client=test_tf, viewer3d=viewer, fixed_frame=\"base-link\", path=\"http://localhost:8888/ros/pkgs\")"
   ]
  },
  {
   "cell_type": "code",
   "execution_count": null,
   "id": "5b8b11db-75a0-4a93-8f41-e2d9ca72fbf2",
   "metadata": {},
   "outputs": [],
   "source": [
    "urdf_client"
   ]
  },
  {
   "cell_type": "code",
   "execution_count": null,
   "id": "d69aaa97-b8eb-450c-af43-c087837ee13b",
   "metadata": {
    "tags": []
   },
   "outputs": [],
   "source": [
    "viewer"
   ]
  },
  {
   "cell_type": "code",
   "execution_count": null,
   "id": "fc08f591-550a-427c-8f02-74bb457ca2f0",
   "metadata": {},
   "outputs": [],
   "source": [
    "urdf_client.robot_model"
   ]
  },
  {
   "cell_type": "code",
   "execution_count": null,
   "id": "9210713a-9e20-4443-8b2d-ecbeb60d2cde",
   "metadata": {},
   "outputs": [],
   "source": [
    "ros_wws.socket_url = \"ws://localhost\""
   ]
  },
  {
   "cell_type": "code",
   "execution_count": null,
   "id": "31be5cae-7b49-4c66-873c-72fe5e89baf5",
   "metadata": {},
   "outputs": [],
   "source": []
  }
 ],
 "metadata": {
  "kernelspec": {
   "display_name": "Python 3 (ipykernel)",
   "language": "python",
   "name": "python3"
  },
  "language_info": {
   "codemirror_mode": {
    "name": "ipython",
    "version": 3
   },
   "file_extension": ".py",
   "mimetype": "text/x-python",
   "name": "python",
   "nbconvert_exporter": "python",
   "pygments_lexer": "ipython3",
   "version": "3.9.16"
  }
 },
 "nbformat": 4,
 "nbformat_minor": 5
}
